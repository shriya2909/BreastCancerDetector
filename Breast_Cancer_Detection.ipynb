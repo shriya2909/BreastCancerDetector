{
  "nbformat": 4,
  "nbformat_minor": 0,
  "metadata": {
    "colab": {
      "name": "Breast Cancer Detection.ipynb",
      "provenance": [],
      "collapsed_sections": [],
      "mount_file_id": "1cNSCxQtUeOKfykzXW0LfceIJJfXlSsyJ",
      "authorship_tag": "ABX9TyMtRY2JE5BvaBKaZ1tLutQS",
      "include_colab_link": true
    },
    "kernelspec": {
      "name": "python3",
      "display_name": "Python 3"
    },
    "accelerator": "GPU"
  },
  "cells": [
    {
      "cell_type": "markdown",
      "metadata": {
        "id": "view-in-github",
        "colab_type": "text"
      },
      "source": [
        "<a href=\"https://colab.research.google.com/github/shriya2909/BreastCancerDetector/blob/master/Breast_Cancer_Detection.ipynb\" target=\"_parent\"><img src=\"https://colab.research.google.com/assets/colab-badge.svg\" alt=\"Open In Colab\"/></a>"
      ]
    },
    {
      "cell_type": "markdown",
      "metadata": {
        "id": "hrafs-cYt3eW",
        "colab_type": "text"
      },
      "source": [
        "## **Problem Statement**\n",
        "I have been tasked with developing a means to help doctors diagnose breast cancer. Data given is about biopsied breast cells; where it is benign (not harmful) or malignant (cancerous).\n",
        "1. What features of a cell are the largest drivers of malignancy?\n",
        "2. How would a physician this product?\n",
        "3. There is a non-zero cost in time and money to collect each feature about a given cell. How would I go about determining the most cost-effective method of\n",
        "detecting malignancy?\n",
        "\n",
        "## **Data Features** \n",
        "Sample code number: id number \n",
        "<br>Clump Thickness: 1 - 10 \n",
        "<br>Uniformity of Cell Size: 1 - 10 \n",
        "<br>Uniformity of Cell Shape: 1 - 10 \n",
        "<br>Marginal Adhesion: 1 - 10 \n",
        "<br>Single Epithelial Cell Size: 1 - 10 \n",
        "<br>Bare Nuclei: 1 - 10 \n",
        "<br>Bland Chromatin: 1 - 10 \n",
        "<br>Normal Nucleoli: 1 - 10 \n",
        "<br>Mitoses: 1 - 10 \n",
        "<br>Class: (2 for benign, 4 for malignant)\n",
        "\n",
        "\n",
        "## **Quick Answers**\n",
        "\n",
        "1. *What features of a cell are the largest drivers of malignancy?*\n",
        "*   Uniformity of Cell Size\n",
        "*   Uniformity of Cell Shape\n",
        "*   Normal Nucleoli\n",
        "*   Clump Thickness\n",
        "*   Marginal Adhesion\n",
        "\n",
        "2. *How would a physician use this product?*\n",
        "<br>Product can be used to predict malignancy with 0.95 Recall i.e. is the ability of a test to correctly identify malignant results to get the true positive rate.\n",
        "\n",
        "3. *There is a non-zero cost in time and money to collect each feature about a given cell. How would I go about determining the most cost-effective method of detecting malignancy?*\n",
        "<br>  The product utilises 3 features - Uniformity of Cell Shape, Clump Thickness Mitoses. \n",
        "  However, there is a trade off between number of features in the model and the recall of the Malignant class. In order to further increase the recall from 0.95, we can add additional features based on the order of their importance.\n",
        "Recall is utilised here as the metric for evaluation as we aim to maximize finding all patients who have cancerous cells and minimize any relevent patient go undiagnosed.\n",
        "\n"
      ]
    },
    {
      "cell_type": "code",
      "metadata": {
        "id": "9n78E7AMtWdW",
        "colab_type": "code",
        "colab": {
          "base_uri": "https://localhost:8080/",
          "height": 35
        },
        "outputId": "68f421a9-e1ad-483d-fd75-6f408fff31e5"
      },
      "source": [
        "from google.colab import drive\n",
        "drive.mount('/content/drive')"
      ],
      "execution_count": null,
      "outputs": [
        {
          "output_type": "stream",
          "text": [
            "Drive already mounted at /content/drive; to attempt to forcibly remount, call drive.mount(\"/content/drive\", force_remount=True).\n"
          ],
          "name": "stdout"
        }
      ]
    },
    {
      "cell_type": "code",
      "metadata": {
        "id": "-YDZe_nWtcG0",
        "colab_type": "code",
        "colab": {
          "base_uri": "https://localhost:8080/",
          "height": 72
        },
        "outputId": "1d2951ed-1c0b-41ac-9aa7-bbfad0078ffd"
      },
      "source": [
        "!pwd\n",
        "%cd \"/content/drive/My Drive/Data Challenges/Breast Cancer Detection\"\n",
        "!pwd"
      ],
      "execution_count": null,
      "outputs": [
        {
          "output_type": "stream",
          "text": [
            "/content/drive/My Drive/Data Challenges/Breast Cancer Detection\n",
            "/content/drive/My Drive/Data Challenges/Breast Cancer Detection\n",
            "/content/drive/My Drive/Data Challenges/Breast Cancer Detection\n"
          ],
          "name": "stdout"
        }
      ]
    },
    {
      "cell_type": "code",
      "metadata": {
        "id": "qliScQpEuC1R",
        "colab_type": "code",
        "colab": {
          "base_uri": "https://localhost:8080/",
          "height": 35
        },
        "outputId": "8394704b-9a55-405c-aab0-688cc27c5a6e"
      },
      "source": [
        "import tensorflow as tf\n",
        "tf.test.gpu_device_name()"
      ],
      "execution_count": null,
      "outputs": [
        {
          "output_type": "execute_result",
          "data": {
            "text/plain": [
              "'/device:GPU:0'"
            ]
          },
          "metadata": {
            "tags": []
          },
          "execution_count": 63
        }
      ]
    },
    {
      "cell_type": "markdown",
      "metadata": {
        "id": "QbwZ3z7ftvYD",
        "colab_type": "text"
      },
      "source": [
        ""
      ]
    },
    {
      "cell_type": "code",
      "metadata": {
        "id": "8SDdfnD_eVWd",
        "colab_type": "code",
        "colab": {}
      },
      "source": [
        "%matplotlib inline\n",
        "\n",
        "import numpy as np\n",
        "import matplotlib.pyplot as plt"
      ],
      "execution_count": null,
      "outputs": []
    },
    {
      "cell_type": "code",
      "metadata": {
        "id": "ElUxrmkVvbMa",
        "colab_type": "code",
        "colab": {}
      },
      "source": [
        "#Read the txt file into a dataframe \n",
        "\n",
        "import pandas as pd\n",
        "pd.set_option('display.max_columns', None)\n",
        "data = pd.DataFrame(pd.read_csv('./breast-cancer-wisconsin.txt', index_col='Index'))\n",
        "\n"
      ],
      "execution_count": null,
      "outputs": []
    },
    {
      "cell_type": "markdown",
      "metadata": {
        "id": "oMUeiT3o-VEB",
        "colab_type": "text"
      },
      "source": [
        "# **EDA and Data Cleaning**\n",
        "**Overview**\n",
        "1. Checking for nulls \n",
        "2. Checking for duplicates\n",
        "3. Analysis class values and what they may signify\n",
        "4. Removing some erroneous data \n",
        "5. Cleaning some erroneous data \n",
        "6. Removing unnecessary feature \n",
        "**Result**\n",
        "<br>Data shape transformed from (15855, 11) to (694, 10). Overcoming class imbalance. Number of data points for class 2 =>  456 and class 4 => 254.\n",
        "\n",
        "\n",
        "\n",
        "\n",
        "\n",
        "\n"
      ]
    },
    {
      "cell_type": "code",
      "metadata": {
        "id": "fRX0N0N8GyVj",
        "colab_type": "code",
        "colab": {
          "base_uri": "https://localhost:8080/",
          "height": 35
        },
        "outputId": "05038922-4226-4c80-d325-7c463f3c5502"
      },
      "source": [
        "print(\"Cancer data set dimensions : {}\".format(data.shape))"
      ],
      "execution_count": null,
      "outputs": [
        {
          "output_type": "stream",
          "text": [
            "Cancer data set dimensions : (15855, 11)\n"
          ],
          "name": "stdout"
        }
      ]
    },
    {
      "cell_type": "code",
      "metadata": {
        "id": "DaHT2inNEFjq",
        "colab_type": "code",
        "colab": {
          "base_uri": "https://localhost:8080/",
          "height": 235
        },
        "outputId": "aa9934be-776d-4f12-b05d-2073e3ef6d36"
      },
      "source": [
        "# Checking for nulls\n",
        "data.apply(lambda x: sum(x.isnull()),axis=0)"
      ],
      "execution_count": null,
      "outputs": [
        {
          "output_type": "execute_result",
          "data": {
            "text/plain": [
              "ID                              0\n",
              "Clump Thickness                 0\n",
              "Uniformity of Cell Size        28\n",
              "Uniformity of Cell Shape       28\n",
              "Marginal Adhesion              28\n",
              "Single Epithelial Cell Size    28\n",
              "Bare Nuclei                    28\n",
              "Bland Chromatin                28\n",
              "Normal Nucleoli                28\n",
              "Mitoses                        28\n",
              "Class                          28\n",
              "dtype: int64"
            ]
          },
          "metadata": {
            "tags": []
          },
          "execution_count": 67
        }
      ]
    },
    {
      "cell_type": "code",
      "metadata": {
        "id": "k4ihekN46e_f",
        "colab_type": "code",
        "colab": {}
      },
      "source": [
        "#Removing duplicates if any \n",
        "dub_check = data.duplicated()"
      ],
      "execution_count": null,
      "outputs": []
    },
    {
      "cell_type": "code",
      "metadata": {
        "id": "j-GsZknJ8c-L",
        "colab_type": "code",
        "colab": {
          "base_uri": "https://localhost:8080/",
          "height": 799
        },
        "outputId": "eafea808-48cd-47a5-93c9-375a1ac05658"
      },
      "source": [
        "# passing NOT of bool series to see unique values only \n",
        "data = data[~dub_check] \n",
        "  \n",
        "# displaying data \n",
        "data.info() \n",
        "data "
      ],
      "execution_count": null,
      "outputs": [
        {
          "output_type": "stream",
          "text": [
            "<class 'pandas.core.frame.DataFrame'>\n",
            "Int64Index: 754 entries, 0 to 15779\n",
            "Data columns (total 11 columns):\n",
            " #   Column                       Non-Null Count  Dtype \n",
            "---  ------                       --------------  ----- \n",
            " 0   ID                           754 non-null    int64 \n",
            " 1   Clump Thickness              754 non-null    int64 \n",
            " 2   Uniformity of Cell Size      741 non-null    object\n",
            " 3   Uniformity of Cell Shape     741 non-null    object\n",
            " 4   Marginal Adhesion            741 non-null    object\n",
            " 5   Single Epithelial Cell Size  741 non-null    object\n",
            " 6   Bare Nuclei                  741 non-null    object\n",
            " 7   Bland Chromatin              741 non-null    object\n",
            " 8   Normal Nucleoli              741 non-null    object\n",
            " 9   Mitoses                      741 non-null    object\n",
            " 10  Class                        741 non-null    object\n",
            "dtypes: int64(2), object(9)\n",
            "memory usage: 70.7+ KB\n"
          ],
          "name": "stdout"
        },
        {
          "output_type": "execute_result",
          "data": {
            "text/html": [
              "<div>\n",
              "<style scoped>\n",
              "    .dataframe tbody tr th:only-of-type {\n",
              "        vertical-align: middle;\n",
              "    }\n",
              "\n",
              "    .dataframe tbody tr th {\n",
              "        vertical-align: top;\n",
              "    }\n",
              "\n",
              "    .dataframe thead th {\n",
              "        text-align: right;\n",
              "    }\n",
              "</style>\n",
              "<table border=\"1\" class=\"dataframe\">\n",
              "  <thead>\n",
              "    <tr style=\"text-align: right;\">\n",
              "      <th></th>\n",
              "      <th>ID</th>\n",
              "      <th>Clump Thickness</th>\n",
              "      <th>Uniformity of Cell Size</th>\n",
              "      <th>Uniformity of Cell Shape</th>\n",
              "      <th>Marginal Adhesion</th>\n",
              "      <th>Single Epithelial Cell Size</th>\n",
              "      <th>Bare Nuclei</th>\n",
              "      <th>Bland Chromatin</th>\n",
              "      <th>Normal Nucleoli</th>\n",
              "      <th>Mitoses</th>\n",
              "      <th>Class</th>\n",
              "    </tr>\n",
              "    <tr>\n",
              "      <th>Index</th>\n",
              "      <th></th>\n",
              "      <th></th>\n",
              "      <th></th>\n",
              "      <th></th>\n",
              "      <th></th>\n",
              "      <th></th>\n",
              "      <th></th>\n",
              "      <th></th>\n",
              "      <th></th>\n",
              "      <th></th>\n",
              "      <th></th>\n",
              "    </tr>\n",
              "  </thead>\n",
              "  <tbody>\n",
              "    <tr>\n",
              "      <th>0</th>\n",
              "      <td>1241035</td>\n",
              "      <td>7</td>\n",
              "      <td>8</td>\n",
              "      <td>3</td>\n",
              "      <td>7</td>\n",
              "      <td>4</td>\n",
              "      <td>5</td>\n",
              "      <td>7</td>\n",
              "      <td>8</td>\n",
              "      <td>2</td>\n",
              "      <td>4</td>\n",
              "    </tr>\n",
              "    <tr>\n",
              "      <th>1</th>\n",
              "      <td>1107684</td>\n",
              "      <td>6</td>\n",
              "      <td>10</td>\n",
              "      <td>5</td>\n",
              "      <td>5</td>\n",
              "      <td>4</td>\n",
              "      <td>10</td>\n",
              "      <td>6</td>\n",
              "      <td>10</td>\n",
              "      <td>1</td>\n",
              "      <td>4</td>\n",
              "    </tr>\n",
              "    <tr>\n",
              "      <th>2</th>\n",
              "      <td>691628</td>\n",
              "      <td>8</td>\n",
              "      <td>6</td>\n",
              "      <td>4</td>\n",
              "      <td>10</td>\n",
              "      <td>10</td>\n",
              "      <td>1</td>\n",
              "      <td>3</td>\n",
              "      <td>5</td>\n",
              "      <td>1</td>\n",
              "      <td>4</td>\n",
              "    </tr>\n",
              "    <tr>\n",
              "      <th>3</th>\n",
              "      <td>1226612</td>\n",
              "      <td>7</td>\n",
              "      <td>5</td>\n",
              "      <td>6</td>\n",
              "      <td>3</td>\n",
              "      <td>3</td>\n",
              "      <td>8</td>\n",
              "      <td>7</td>\n",
              "      <td>4</td>\n",
              "      <td>1</td>\n",
              "      <td>4</td>\n",
              "    </tr>\n",
              "    <tr>\n",
              "      <th>4</th>\n",
              "      <td>1142706</td>\n",
              "      <td>5</td>\n",
              "      <td>10</td>\n",
              "      <td>10</td>\n",
              "      <td>10</td>\n",
              "      <td>6</td>\n",
              "      <td>10</td>\n",
              "      <td>6</td>\n",
              "      <td>5</td>\n",
              "      <td>2</td>\n",
              "      <td>4</td>\n",
              "    </tr>\n",
              "    <tr>\n",
              "      <th>...</th>\n",
              "      <td>...</td>\n",
              "      <td>...</td>\n",
              "      <td>...</td>\n",
              "      <td>...</td>\n",
              "      <td>...</td>\n",
              "      <td>...</td>\n",
              "      <td>...</td>\n",
              "      <td>...</td>\n",
              "      <td>...</td>\n",
              "      <td>...</td>\n",
              "      <td>...</td>\n",
              "    </tr>\n",
              "    <tr>\n",
              "      <th>15717</th>\n",
              "      <td>752904</td>\n",
              "      <td>10</td>\n",
              "      <td>1</td>\n",
              "      <td>1</td>\n",
              "      <td>1</td>\n",
              "      <td>2</td>\n",
              "      <td>10</td>\n",
              "      <td>5</td>\n",
              "      <td>4</td>\n",
              "      <td>1</td>\n",
              "      <td>4</td>\n",
              "    </tr>\n",
              "    <tr>\n",
              "      <th>15720</th>\n",
              "      <td>1296025</td>\n",
              "      <td>4</td>\n",
              "      <td>1</td>\n",
              "      <td>2</td>\n",
              "      <td>1</td>\n",
              "      <td>2</td>\n",
              "      <td>1</td>\n",
              "      <td>1</td>\n",
              "      <td>1</td>\n",
              "      <td>1</td>\n",
              "      <td>2</td>\n",
              "    </tr>\n",
              "    <tr>\n",
              "      <th>15742</th>\n",
              "      <td>160296</td>\n",
              "      <td>5</td>\n",
              "      <td>8</td>\n",
              "      <td>8</td>\n",
              "      <td>10</td>\n",
              "      <td>5</td>\n",
              "      <td>10</td>\n",
              "      <td>8</td>\n",
              "      <td>10</td>\n",
              "      <td>3</td>\n",
              "      <td>4</td>\n",
              "    </tr>\n",
              "    <tr>\n",
              "      <th>15756</th>\n",
              "      <td>1016277</td>\n",
              "      <td>6</td>\n",
              "      <td>8</td>\n",
              "      <td>8</td>\n",
              "      <td>1</td>\n",
              "      <td>3</td>\n",
              "      <td>4</td>\n",
              "      <td>3</td>\n",
              "      <td>7</td>\n",
              "      <td>1</td>\n",
              "      <td>2</td>\n",
              "    </tr>\n",
              "    <tr>\n",
              "      <th>15779</th>\n",
              "      <td>492268</td>\n",
              "      <td>10</td>\n",
              "      <td>4</td>\n",
              "      <td>6</td>\n",
              "      <td>1</td>\n",
              "      <td>2</td>\n",
              "      <td>10</td>\n",
              "      <td>5</td>\n",
              "      <td>3</td>\n",
              "      <td>1</td>\n",
              "      <td>4</td>\n",
              "    </tr>\n",
              "  </tbody>\n",
              "</table>\n",
              "<p>754 rows × 11 columns</p>\n",
              "</div>"
            ],
            "text/plain": [
              "            ID  Clump Thickness Uniformity of Cell Size  \\\n",
              "Index                                                     \n",
              "0      1241035                7                       8   \n",
              "1      1107684                6                      10   \n",
              "2       691628                8                       6   \n",
              "3      1226612                7                       5   \n",
              "4      1142706                5                      10   \n",
              "...        ...              ...                     ...   \n",
              "15717   752904               10                       1   \n",
              "15720  1296025                4                       1   \n",
              "15742   160296                5                       8   \n",
              "15756  1016277                6                       8   \n",
              "15779   492268               10                       4   \n",
              "\n",
              "      Uniformity of Cell Shape Marginal Adhesion Single Epithelial Cell Size  \\\n",
              "Index                                                                          \n",
              "0                            3                 7                           4   \n",
              "1                            5                 5                           4   \n",
              "2                            4                10                          10   \n",
              "3                            6                 3                           3   \n",
              "4                           10                10                           6   \n",
              "...                        ...               ...                         ...   \n",
              "15717                        1                 1                           2   \n",
              "15720                        2                 1                           2   \n",
              "15742                        8                10                           5   \n",
              "15756                        8                 1                           3   \n",
              "15779                        6                 1                           2   \n",
              "\n",
              "      Bare Nuclei Bland Chromatin Normal Nucleoli Mitoses Class  \n",
              "Index                                                            \n",
              "0               5               7               8       2     4  \n",
              "1              10               6              10       1     4  \n",
              "2               1               3               5       1     4  \n",
              "3               8               7               4       1     4  \n",
              "4              10               6               5       2     4  \n",
              "...           ...             ...             ...     ...   ...  \n",
              "15717          10               5               4       1     4  \n",
              "15720           1               1               1       1     2  \n",
              "15742          10               8              10       3     4  \n",
              "15756           4               3               7       1     2  \n",
              "15779          10               5               3       1     4  \n",
              "\n",
              "[754 rows x 11 columns]"
            ]
          },
          "metadata": {
            "tags": []
          },
          "execution_count": 69
        }
      ]
    },
    {
      "cell_type": "markdown",
      "metadata": {
        "id": "Yph-3WkrRJxU",
        "colab_type": "text"
      },
      "source": [
        ""
      ]
    },
    {
      "cell_type": "code",
      "metadata": {
        "id": "_v_kfE-mFWtO",
        "colab_type": "code",
        "colab": {
          "base_uri": "https://localhost:8080/",
          "height": 162
        },
        "outputId": "ec4ae315-c0ca-447c-bb4e-8d59997824cb"
      },
      "source": [
        "# Column of interest \n",
        "print(data['Class'].value_counts())"
      ],
      "execution_count": null,
      "outputs": [
        {
          "output_type": "stream",
          "text": [
            "2          451\n",
            "4          237\n",
            "40          17\n",
            "?           12\n",
            "No idea     10\n",
            "#            9\n",
            "20           5\n",
            "Name: Class, dtype: int64\n"
          ],
          "name": "stdout"
        }
      ]
    },
    {
      "cell_type": "code",
      "metadata": {
        "id": "yKLxj9KcQq1B",
        "colab_type": "code",
        "colab": {
          "base_uri": "https://localhost:8080/",
          "height": 853
        },
        "outputId": "dc3aea7c-cb77-4686-ebb2-e408455581fd"
      },
      "source": [
        "data_hash = data[data['Class'].isin(['#'])]\n",
        "data_ND = data[data['Class'].isin(['No idea'])]\n",
        "data_q = data[data['Class'].isin(['?'])]\n",
        "print(data_hash.head(3))\n",
        "print(data_ND.head(3))"
      ],
      "execution_count": null,
      "outputs": [
        {
          "output_type": "stream",
          "text": [
            "            ID  Clump Thickness Uniformity of Cell Size  \\\n",
            "Index                                                     \n",
            "396    1111249               10                       #   \n",
            "1179   1198641               10                       #   \n",
            "2226   1106829                7                       #   \n",
            "2951   1110524               10                       #   \n",
            "3586   1115293                1                       #   \n",
            "\n",
            "      Uniformity of Cell Shape Marginal Adhesion Single Epithelial Cell Size  \\\n",
            "Index                                                                          \n",
            "396                          #                 #                           #   \n",
            "1179                         #                 #                           #   \n",
            "2226                         #                 #                           #   \n",
            "2951                         #                 #                           #   \n",
            "3586                         #                 #                           #   \n",
            "\n",
            "      Bare Nuclei Bland Chromatin Normal Nucleoli Mitoses Class  \n",
            "Index                                                            \n",
            "396             #               #               #       #     #  \n",
            "1179            #               #               #       #     #  \n",
            "2226            #               #               #       #     #  \n",
            "2951            #               #               #       #     #  \n",
            "3586            #               #               #       #     #  \n",
            "            ID  Clump Thickness Uniformity of Cell Size  \\\n",
            "Index                                                     \n",
            "30     1226612                7                 No idea   \n",
            "70     1076352                3                 No idea   \n",
            "721    1110524               10                 No idea   \n",
            "2239    378275               10                 No idea   \n",
            "2534   1106829                7                 No idea   \n",
            "\n",
            "      Uniformity of Cell Shape Marginal Adhesion Single Epithelial Cell Size  \\\n",
            "Index                                                                          \n",
            "30                     No idea           No idea                     No idea   \n",
            "70                     No idea           No idea                     No idea   \n",
            "721                    No idea           No idea                     No idea   \n",
            "2239                   No idea           No idea                     No idea   \n",
            "2534                   No idea           No idea                     No idea   \n",
            "\n",
            "      Bare Nuclei Bland Chromatin Normal Nucleoli  Mitoses    Class  \n",
            "Index                                                                \n",
            "30        No idea         No idea         No idea  No idea  No idea  \n",
            "70        No idea         No idea         No idea  No idea  No idea  \n",
            "721       No idea         No idea         No idea  No idea  No idea  \n",
            "2239      No idea         No idea         No idea  No idea  No idea  \n",
            "2534      No idea         No idea         No idea  No idea  No idea  \n"
          ],
          "name": "stdout"
        }
      ]
    },
    {
      "cell_type": "code",
      "metadata": {
        "id": "8AbHCvubSfly",
        "colab_type": "code",
        "colab": {
          "base_uri": "https://localhost:8080/",
          "height": 435
        },
        "outputId": "60f3e886-a372-4f0d-fb6c-39433b7dd8b0"
      },
      "source": [
        "print(data_q.head(5))"
      ],
      "execution_count": null,
      "outputs": [
        {
          "output_type": "stream",
          "text": [
            "            ID  Clump Thickness Uniformity of Cell Size  \\\n",
            "Index                                                     \n",
            "1143   1198641               10                       ?   \n",
            "2856    691628                8                       ?   \n",
            "3424   1169049                7                       ?   \n",
            "3941   1112209                8                       ?   \n",
            "5829   1226612                7                       ?   \n",
            "\n",
            "      Uniformity of Cell Shape Marginal Adhesion Single Epithelial Cell Size  \\\n",
            "Index                                                                          \n",
            "1143                         ?                 ?                           ?   \n",
            "2856                         ?                 ?                           ?   \n",
            "3424                         ?                 ?                           ?   \n",
            "3941                         ?                 ?                           ?   \n",
            "5829                         ?                 ?                           ?   \n",
            "\n",
            "      Bare Nuclei Bland Chromatin Normal Nucleoli Mitoses Class  \n",
            "Index                                                            \n",
            "1143            ?               ?               ?       ?     ?  \n",
            "2856            ?               ?               ?       ?     ?  \n",
            "3424            ?               ?               ?       ?     ?  \n",
            "3941            ?               ?               ?       ?     ?  \n",
            "5829            ?               ?               ?       ?     ?  \n"
          ],
          "name": "stdout"
        }
      ]
    },
    {
      "cell_type": "code",
      "metadata": {
        "id": "bnSyYz9hRSxf",
        "colab_type": "code",
        "colab": {}
      },
      "source": [
        "# Dropping No idea, ? and  # class rows makes sense as they provide no information about any of the features\n",
        "\n",
        "new_data = data[data['Class'].isin(['#','No idea','?']) == False]"
      ],
      "execution_count": null,
      "outputs": []
    },
    {
      "cell_type": "code",
      "metadata": {
        "id": "r-BsgyXSSJXV",
        "colab_type": "code",
        "colab": {
          "base_uri": "https://localhost:8080/",
          "height": 108
        },
        "outputId": "c0dbc7ec-4119-4534-bd3d-8e36f9f5ead4"
      },
      "source": [
        "print(new_data['Class'].value_counts())"
      ],
      "execution_count": null,
      "outputs": [
        {
          "output_type": "stream",
          "text": [
            "2     451\n",
            "4     237\n",
            "40     17\n",
            "20      5\n",
            "Name: Class, dtype: int64\n"
          ],
          "name": "stdout"
        }
      ]
    },
    {
      "cell_type": "code",
      "metadata": {
        "id": "BqntUrMvHLe0",
        "colab_type": "code",
        "colab": {}
      },
      "source": [
        "# Going deeper for classes 40 and 20 \n",
        "data_20 = new_data[new_data['Class'].isin(['20'])]\n",
        "data_2 = new_data[new_data['Class'].isin(['2'])]\n"
      ],
      "execution_count": null,
      "outputs": []
    },
    {
      "cell_type": "code",
      "metadata": {
        "id": "PC1Hkd3fTegz",
        "colab_type": "code",
        "colab": {}
      },
      "source": [
        "data_40 = new_data[new_data['Class'].isin(['40'])]\n",
        "data_4 = new_data[new_data['Class'].isin(['4'])]"
      ],
      "execution_count": null,
      "outputs": []
    },
    {
      "cell_type": "code",
      "metadata": {
        "id": "W457bC3VTxup",
        "colab_type": "code",
        "colab": {
          "base_uri": "https://localhost:8080/",
          "height": 235
        },
        "outputId": "a9fd0ca0-c305-4fd6-d061-c8dd67af7fa9"
      },
      "source": [
        "# It seems like erroneous multiplication of values by 10 for classes 20 and 40 \n",
        "# Data Cleaning - dividing all values by 10 for 20 and 40 classes \n",
        "data_40.dtypes"
      ],
      "execution_count": null,
      "outputs": [
        {
          "output_type": "execute_result",
          "data": {
            "text/plain": [
              "ID                              int64\n",
              "Clump Thickness                 int64\n",
              "Uniformity of Cell Size        object\n",
              "Uniformity of Cell Shape       object\n",
              "Marginal Adhesion              object\n",
              "Single Epithelial Cell Size    object\n",
              "Bare Nuclei                    object\n",
              "Bland Chromatin                object\n",
              "Normal Nucleoli                object\n",
              "Mitoses                        object\n",
              "Class                          object\n",
              "dtype: object"
            ]
          },
          "metadata": {
            "tags": []
          },
          "execution_count": 77
        }
      ]
    },
    {
      "cell_type": "code",
      "metadata": {
        "id": "_DGFR7BRdyCn",
        "colab_type": "code",
        "colab": {
          "base_uri": "https://localhost:8080/",
          "height": 126
        },
        "outputId": "08c149bd-0df6-416c-ea8f-331e432d38e9"
      },
      "source": [
        "#Converting columns to numerical times in order to divide by 10 \n",
        "data_40[['Uniformity of Cell Size','Uniformity of Cell Shape', 'Marginal Adhesion','Single Epithelial Cell Size','Bare Nuclei','Bland Chromatin','Normal Nucleoli','Mitoses','Class']] = data_40[['Uniformity of Cell Size','Uniformity of Cell Shape', 'Marginal Adhesion','Single Epithelial Cell Size','Bare Nuclei','Bland Chromatin','Normal Nucleoli','Mitoses','Class']].apply(pd.to_numeric) "
      ],
      "execution_count": null,
      "outputs": [
        {
          "output_type": "stream",
          "text": [
            "/usr/local/lib/python3.6/dist-packages/pandas/core/frame.py:2963: SettingWithCopyWarning: \n",
            "A value is trying to be set on a copy of a slice from a DataFrame.\n",
            "Try using .loc[row_indexer,col_indexer] = value instead\n",
            "\n",
            "See the caveats in the documentation: https://pandas.pydata.org/pandas-docs/stable/user_guide/indexing.html#returning-a-view-versus-a-copy\n",
            "  self[k1] = value[k2]\n"
          ],
          "name": "stderr"
        }
      ]
    },
    {
      "cell_type": "code",
      "metadata": {
        "id": "e6Clwo-Jd2pQ",
        "colab_type": "code",
        "colab": {
          "base_uri": "https://localhost:8080/",
          "height": 235
        },
        "outputId": "ac16d790-9da3-4f91-d459-0ca94bcf441f"
      },
      "source": [
        "data_40.dtypes"
      ],
      "execution_count": null,
      "outputs": [
        {
          "output_type": "execute_result",
          "data": {
            "text/plain": [
              "ID                             int64\n",
              "Clump Thickness                int64\n",
              "Uniformity of Cell Size        int64\n",
              "Uniformity of Cell Shape       int64\n",
              "Marginal Adhesion              int64\n",
              "Single Epithelial Cell Size    int64\n",
              "Bare Nuclei                    int64\n",
              "Bland Chromatin                int64\n",
              "Normal Nucleoli                int64\n",
              "Mitoses                        int64\n",
              "Class                          int64\n",
              "dtype: object"
            ]
          },
          "metadata": {
            "tags": []
          },
          "execution_count": 79
        }
      ]
    },
    {
      "cell_type": "code",
      "metadata": {
        "id": "us3tWWpEe_pa",
        "colab_type": "code",
        "colab": {}
      },
      "source": [
        "data_40 = data_40.div(10) "
      ],
      "execution_count": null,
      "outputs": []
    },
    {
      "cell_type": "code",
      "metadata": {
        "id": "m61qqUlffl4t",
        "colab_type": "code",
        "colab": {
          "base_uri": "https://localhost:8080/",
          "height": 944
        },
        "outputId": "a05a8280-d544-4287-e684-f350219a2967"
      },
      "source": [
        "print(data_40.head(5))"
      ],
      "execution_count": null,
      "outputs": [
        {
          "output_type": "stream",
          "text": [
            "              ID  Clump Thickness  Uniformity of Cell Size  \\\n",
            "Index                                                        \n",
            "167    1226612.0              7.0                      5.0   \n",
            "213    1112209.0              8.0                     10.0   \n",
            "243    1169049.0              7.0                      3.0   \n",
            "374    1198641.0             10.0                     10.0   \n",
            "1191   1241035.0              7.0                      8.0   \n",
            "1222    601265.0             10.0                      4.0   \n",
            "1888   1200892.0              8.0                      6.0   \n",
            "2053   1111249.0             10.0                      6.0   \n",
            "2183   1142706.0              5.0                     10.0   \n",
            "2306   1076352.0              3.0                      6.0   \n",
            "\n",
            "       Uniformity of Cell Shape  Marginal Adhesion  \\\n",
            "Index                                                \n",
            "167                         6.0                3.0   \n",
            "213                        10.0                1.0   \n",
            "243                         4.0                4.0   \n",
            "374                         6.0                3.0   \n",
            "1191                        3.0                7.0   \n",
            "1222                        4.0                6.0   \n",
            "1888                        5.0                4.0   \n",
            "2053                        6.0                3.0   \n",
            "2183                       10.0               10.0   \n",
            "2306                        4.0               10.0   \n",
            "\n",
            "       Single Epithelial Cell Size  Bare Nuclei  Bland Chromatin  \\\n",
            "Index                                                              \n",
            "167                            3.0          8.0              7.0   \n",
            "213                            3.0          6.0              3.0   \n",
            "243                            3.0          3.0              3.0   \n",
            "374                            3.0         10.0              4.0   \n",
            "1191                           4.0          5.0              7.0   \n",
            "1222                           2.0         10.0              2.0   \n",
            "1888                           3.0         10.0              6.0   \n",
            "2053                           4.0          5.0              3.0   \n",
            "2183                           6.0         10.0              6.0   \n",
            "2306                           3.0          3.0              3.0   \n",
            "\n",
            "       Normal Nucleoli  Mitoses  Class  \n",
            "Index                                   \n",
            "167                4.0      1.0    4.0  \n",
            "213                9.0      1.0    4.0  \n",
            "243                2.0      7.0    4.0  \n",
            "374                3.0      2.0    4.0  \n",
            "1191               8.0      2.0    4.0  \n",
            "1222               3.0      1.0    4.0  \n",
            "1888               1.0      1.0    4.0  \n",
            "2053               6.0      1.0    4.0  \n",
            "2183               5.0      2.0    4.0  \n",
            "2306               4.0      1.0    4.0  \n"
          ],
          "name": "stdout"
        }
      ]
    },
    {
      "cell_type": "code",
      "metadata": {
        "id": "UB6CoP4jglCH",
        "colab_type": "code",
        "colab": {
          "base_uri": "https://localhost:8080/",
          "height": 235
        },
        "outputId": "37467cf0-fec6-422e-80e3-4c856bcaf6e2"
      },
      "source": [
        "data_20.dtypes"
      ],
      "execution_count": null,
      "outputs": [
        {
          "output_type": "execute_result",
          "data": {
            "text/plain": [
              "ID                              int64\n",
              "Clump Thickness                 int64\n",
              "Uniformity of Cell Size        object\n",
              "Uniformity of Cell Shape       object\n",
              "Marginal Adhesion              object\n",
              "Single Epithelial Cell Size    object\n",
              "Bare Nuclei                    object\n",
              "Bland Chromatin                object\n",
              "Normal Nucleoli                object\n",
              "Mitoses                        object\n",
              "Class                          object\n",
              "dtype: object"
            ]
          },
          "metadata": {
            "tags": []
          },
          "execution_count": 82
        }
      ]
    },
    {
      "cell_type": "code",
      "metadata": {
        "id": "c6wRkk-IgxDH",
        "colab_type": "code",
        "colab": {
          "base_uri": "https://localhost:8080/",
          "height": 126
        },
        "outputId": "4735b10e-3b8d-4e7c-8fa5-6846d12cad89"
      },
      "source": [
        "data_20[['Uniformity of Cell Size','Uniformity of Cell Shape', 'Marginal Adhesion','Single Epithelial Cell Size','Bare Nuclei','Bland Chromatin','Normal Nucleoli','Mitoses','Class']] = data_20[['Uniformity of Cell Size','Uniformity of Cell Shape', 'Marginal Adhesion','Single Epithelial Cell Size','Bare Nuclei','Bland Chromatin','Normal Nucleoli','Mitoses','Class']].apply(pd.to_numeric) "
      ],
      "execution_count": null,
      "outputs": [
        {
          "output_type": "stream",
          "text": [
            "/usr/local/lib/python3.6/dist-packages/pandas/core/frame.py:2963: SettingWithCopyWarning: \n",
            "A value is trying to be set on a copy of a slice from a DataFrame.\n",
            "Try using .loc[row_indexer,col_indexer] = value instead\n",
            "\n",
            "See the caveats in the documentation: https://pandas.pydata.org/pandas-docs/stable/user_guide/indexing.html#returning-a-view-versus-a-copy\n",
            "  self[k1] = value[k2]\n"
          ],
          "name": "stderr"
        }
      ]
    },
    {
      "cell_type": "code",
      "metadata": {
        "id": "ECikmEFLg9xZ",
        "colab_type": "code",
        "colab": {
          "base_uri": "https://localhost:8080/",
          "height": 235
        },
        "outputId": "6412ace2-6cdd-4366-8596-62c831cbdf74"
      },
      "source": [
        "data_20.dtypes"
      ],
      "execution_count": null,
      "outputs": [
        {
          "output_type": "execute_result",
          "data": {
            "text/plain": [
              "ID                             int64\n",
              "Clump Thickness                int64\n",
              "Uniformity of Cell Size        int64\n",
              "Uniformity of Cell Shape       int64\n",
              "Marginal Adhesion              int64\n",
              "Single Epithelial Cell Size    int64\n",
              "Bare Nuclei                    int64\n",
              "Bland Chromatin                int64\n",
              "Normal Nucleoli                int64\n",
              "Mitoses                        int64\n",
              "Class                          int64\n",
              "dtype: object"
            ]
          },
          "metadata": {
            "tags": []
          },
          "execution_count": 84
        }
      ]
    },
    {
      "cell_type": "code",
      "metadata": {
        "id": "6rHKm0KrhLR5",
        "colab_type": "code",
        "colab": {
          "base_uri": "https://localhost:8080/",
          "height": 580
        },
        "outputId": "700a6581-911a-4969-acd5-6c7cfdb8fb7a"
      },
      "source": [
        "print(data_20.head(5))\n",
        "data_20 = data_20.div(10) "
      ],
      "execution_count": null,
      "outputs": [
        {
          "output_type": "stream",
          "text": [
            "             ID  Clump Thickness  Uniformity of Cell Size  \\\n",
            "Index                                                       \n",
            "2328   12124220               40                       10   \n",
            "2944   12048980               60                       10   \n",
            "12299  12760910               10                       30   \n",
            "12350  12758070               40                       20   \n",
            "14757  12270810               30                       10   \n",
            "\n",
            "       Uniformity of Cell Shape  Marginal Adhesion  \\\n",
            "Index                                                \n",
            "2328                         10                 10   \n",
            "2944                         10                 10   \n",
            "12299                        10                 10   \n",
            "12350                        40                 30   \n",
            "14757                        10                 30   \n",
            "\n",
            "       Single Epithelial Cell Size  Bare Nuclei  Bland Chromatin  \\\n",
            "Index                                                              \n",
            "2328                            20           10               30   \n",
            "2944                            20           10               30   \n",
            "12299                           20           10               20   \n",
            "12350                           20           20               20   \n",
            "14757                           20           10               10   \n",
            "\n",
            "       Normal Nucleoli  Mitoses  Class  \n",
            "Index                                   \n",
            "2328                10       10     20  \n",
            "2944                10       10     20  \n",
            "12299               20       10     20  \n",
            "12350               10       10     20  \n",
            "14757               10       10     20  \n"
          ],
          "name": "stdout"
        }
      ]
    },
    {
      "cell_type": "code",
      "metadata": {
        "id": "xk5_56LlhPxg",
        "colab_type": "code",
        "colab": {
          "base_uri": "https://localhost:8080/",
          "height": 580
        },
        "outputId": "dee2ac53-1a1b-4d8b-8e23-624986d5fc0e"
      },
      "source": [
        "print(data_20.head(5))"
      ],
      "execution_count": null,
      "outputs": [
        {
          "output_type": "stream",
          "text": [
            "              ID  Clump Thickness  Uniformity of Cell Size  \\\n",
            "Index                                                        \n",
            "2328   1212422.0              4.0                      1.0   \n",
            "2944   1204898.0              6.0                      1.0   \n",
            "12299  1276091.0              1.0                      3.0   \n",
            "12350  1275807.0              4.0                      2.0   \n",
            "14757  1227081.0              3.0                      1.0   \n",
            "\n",
            "       Uniformity of Cell Shape  Marginal Adhesion  \\\n",
            "Index                                                \n",
            "2328                        1.0                1.0   \n",
            "2944                        1.0                1.0   \n",
            "12299                       1.0                1.0   \n",
            "12350                       4.0                3.0   \n",
            "14757                       1.0                3.0   \n",
            "\n",
            "       Single Epithelial Cell Size  Bare Nuclei  Bland Chromatin  \\\n",
            "Index                                                              \n",
            "2328                           2.0          1.0              3.0   \n",
            "2944                           2.0          1.0              3.0   \n",
            "12299                          2.0          1.0              2.0   \n",
            "12350                          2.0          2.0              2.0   \n",
            "14757                          2.0          1.0              1.0   \n",
            "\n",
            "       Normal Nucleoli  Mitoses  Class  \n",
            "Index                                   \n",
            "2328               1.0      1.0    2.0  \n",
            "2944               1.0      1.0    2.0  \n",
            "12299              2.0      1.0    2.0  \n",
            "12350              1.0      1.0    2.0  \n",
            "14757              1.0      1.0    2.0  \n"
          ],
          "name": "stdout"
        }
      ]
    },
    {
      "cell_type": "code",
      "metadata": {
        "id": "_ZpFRAgYhVSv",
        "colab_type": "code",
        "colab": {}
      },
      "source": [
        "data_40_20_cleaned = pd.concat([data_40,data_20])"
      ],
      "execution_count": null,
      "outputs": []
    },
    {
      "cell_type": "code",
      "metadata": {
        "id": "6vbqfE5Dh579",
        "colab_type": "code",
        "colab": {
          "base_uri": "https://localhost:8080/",
          "height": 944
        },
        "outputId": "d8ec6ef0-104d-4c71-e11c-7e2733103faa"
      },
      "source": [
        "print(data_40_20_cleaned.head(5))"
      ],
      "execution_count": null,
      "outputs": [
        {
          "output_type": "stream",
          "text": [
            "              ID  Clump Thickness  Uniformity of Cell Size  \\\n",
            "Index                                                        \n",
            "167    1226612.0              7.0                      5.0   \n",
            "213    1112209.0              8.0                     10.0   \n",
            "243    1169049.0              7.0                      3.0   \n",
            "374    1198641.0             10.0                     10.0   \n",
            "1191   1241035.0              7.0                      8.0   \n",
            "1222    601265.0             10.0                      4.0   \n",
            "1888   1200892.0              8.0                      6.0   \n",
            "2053   1111249.0             10.0                      6.0   \n",
            "2183   1142706.0              5.0                     10.0   \n",
            "2306   1076352.0              3.0                      6.0   \n",
            "\n",
            "       Uniformity of Cell Shape  Marginal Adhesion  \\\n",
            "Index                                                \n",
            "167                         6.0                3.0   \n",
            "213                        10.0                1.0   \n",
            "243                         4.0                4.0   \n",
            "374                         6.0                3.0   \n",
            "1191                        3.0                7.0   \n",
            "1222                        4.0                6.0   \n",
            "1888                        5.0                4.0   \n",
            "2053                        6.0                3.0   \n",
            "2183                       10.0               10.0   \n",
            "2306                        4.0               10.0   \n",
            "\n",
            "       Single Epithelial Cell Size  Bare Nuclei  Bland Chromatin  \\\n",
            "Index                                                              \n",
            "167                            3.0          8.0              7.0   \n",
            "213                            3.0          6.0              3.0   \n",
            "243                            3.0          3.0              3.0   \n",
            "374                            3.0         10.0              4.0   \n",
            "1191                           4.0          5.0              7.0   \n",
            "1222                           2.0         10.0              2.0   \n",
            "1888                           3.0         10.0              6.0   \n",
            "2053                           4.0          5.0              3.0   \n",
            "2183                           6.0         10.0              6.0   \n",
            "2306                           3.0          3.0              3.0   \n",
            "\n",
            "       Normal Nucleoli  Mitoses  Class  \n",
            "Index                                   \n",
            "167                4.0      1.0    4.0  \n",
            "213                9.0      1.0    4.0  \n",
            "243                2.0      7.0    4.0  \n",
            "374                3.0      2.0    4.0  \n",
            "1191               8.0      2.0    4.0  \n",
            "1222               3.0      1.0    4.0  \n",
            "1888               1.0      1.0    4.0  \n",
            "2053               6.0      1.0    4.0  \n",
            "2183               5.0      2.0    4.0  \n",
            "2306               4.0      1.0    4.0  \n"
          ],
          "name": "stdout"
        }
      ]
    },
    {
      "cell_type": "code",
      "metadata": {
        "id": "qCG4F2YGjtd4",
        "colab_type": "code",
        "colab": {}
      },
      "source": [
        "data_4_2 = pd.concat([data_4,data_2])"
      ],
      "execution_count": null,
      "outputs": []
    },
    {
      "cell_type": "code",
      "metadata": {
        "id": "2BbhxqSrllXo",
        "colab_type": "code",
        "colab": {}
      },
      "source": [
        "# Converting back to object type\n",
        "data_40_20_cleaned = data_40_20_cleaned.round(decimals=0).astype(object)"
      ],
      "execution_count": null,
      "outputs": []
    },
    {
      "cell_type": "code",
      "metadata": {
        "id": "3dyVUzfQlq2c",
        "colab_type": "code",
        "colab": {
          "base_uri": "https://localhost:8080/",
          "height": 707
        },
        "outputId": "66b97e94-7bac-40a1-94dc-1eaf7656282f"
      },
      "source": [
        "print(data_40_20_cleaned.head(5))"
      ],
      "execution_count": null,
      "outputs": [
        {
          "output_type": "stream",
          "text": [
            "                ID Clump Thickness Uniformity of Cell Size  \\\n",
            "Index                                                        \n",
            "167    1.22661e+06               7                       5   \n",
            "213    1.11221e+06               8                      10   \n",
            "243    1.16905e+06               7                       3   \n",
            "374    1.19864e+06              10                      10   \n",
            "1191   1.24104e+06               7                       8   \n",
            "1222        601265              10                       4   \n",
            "1888   1.20089e+06               8                       6   \n",
            "2053   1.11125e+06              10                       6   \n",
            "2183   1.14271e+06               5                      10   \n",
            "2306   1.07635e+06               3                       6   \n",
            "\n",
            "      Uniformity of Cell Shape Marginal Adhesion Single Epithelial Cell Size  \\\n",
            "Index                                                                          \n",
            "167                          6                 3                           3   \n",
            "213                         10                 1                           3   \n",
            "243                          4                 4                           3   \n",
            "374                          6                 3                           3   \n",
            "1191                         3                 7                           4   \n",
            "1222                         4                 6                           2   \n",
            "1888                         5                 4                           3   \n",
            "2053                         6                 3                           4   \n",
            "2183                        10                10                           6   \n",
            "2306                         4                10                           3   \n",
            "\n",
            "      Bare Nuclei Bland Chromatin Normal Nucleoli Mitoses Class  \n",
            "Index                                                            \n",
            "167             8               7               4       1     4  \n",
            "213             6               3               9       1     4  \n",
            "243             3               3               2       7     4  \n",
            "374            10               4               3       2     4  \n",
            "1191            5               7               8       2     4  \n",
            "1222           10               2               3       1     4  \n",
            "1888           10               6               1       1     4  \n",
            "2053            5               3               6       1     4  \n",
            "2183           10               6               5       2     4  \n",
            "2306            3               3               4       1     4  \n"
          ],
          "name": "stdout"
        }
      ]
    },
    {
      "cell_type": "code",
      "metadata": {
        "id": "7zJGG1R8013L",
        "colab_type": "code",
        "colab": {
          "base_uri": "https://localhost:8080/",
          "height": 435
        },
        "outputId": "8dfe4f59-5f9d-41b5-f7a2-a1f2d2a8b483"
      },
      "source": [
        "print(data_40_20_cleaned['ID'].value_counts())"
      ],
      "execution_count": null,
      "outputs": [
        {
          "output_type": "stream",
          "text": [
            "1275807.0    1\n",
            "1110524.0    1\n",
            "1107684.0    1\n",
            "1076352.0    1\n",
            "378275.0     1\n",
            "1111249.0    1\n",
            "1212422.0    1\n",
            "1204898.0    1\n",
            "1227081.0    1\n",
            "1276091.0    1\n",
            "1241035.0    1\n",
            "1112209.0    1\n",
            "1106829.0    1\n",
            "601265.0     1\n",
            "1142706.0    1\n",
            "1226612.0    1\n",
            "691628.0     1\n",
            "832567.0     1\n",
            "672113.0     1\n",
            "1169049.0    1\n",
            "1200892.0    1\n",
            "1198641.0    1\n",
            "Name: ID, dtype: int64\n"
          ],
          "name": "stdout"
        }
      ]
    },
    {
      "cell_type": "code",
      "metadata": {
        "id": "hOmcYQ864i7-",
        "colab_type": "code",
        "colab": {
          "base_uri": "https://localhost:8080/",
          "height": 1000
        },
        "outputId": "b0ef0132-5569-4041-af13-c3944b343575"
      },
      "source": [
        "dub_id = data_4_2['ID'].duplicated( keep = False)\n",
        "print(dub_id)\n",
        "data_4_2_id_dub = data_4_2[dub_id] \n",
        "print(data_4_2_id_dub)"
      ],
      "execution_count": null,
      "outputs": [
        {
          "output_type": "stream",
          "text": [
            "Index\n",
            "0        False\n",
            "1        False\n",
            "2        False\n",
            "3        False\n",
            "4        False\n",
            "         ...  \n",
            "15627    False\n",
            "15638    False\n",
            "15710     True\n",
            "15720    False\n",
            "15756    False\n",
            "Name: ID, Length: 688, dtype: bool\n",
            "            ID  Clump Thickness Uniformity of Cell Size  \\\n",
            "Index                                                     \n",
            "25     1198641               10                      10   \n",
            "1382    897471                4                       8   \n",
            "2645   1299596                6                       6   \n",
            "4119    695091                5                      10   \n",
            "5692    822829                7                       6   \n",
            "...        ...              ...                     ...   \n",
            "14816  1070935                3                       1   \n",
            "14863  1212422                4                       1   \n",
            "15156  1240603                2                       1   \n",
            "15428  1320077                1                       1   \n",
            "15710   798429                1                       1   \n",
            "\n",
            "      Uniformity of Cell Shape Marginal Adhesion Single Epithelial Cell Size  \\\n",
            "Index                                                                          \n",
            "25                           6                 3                           3   \n",
            "1382                         8                 5                           4   \n",
            "2645                         6                 5                           4   \n",
            "4119                        10                 5                           4   \n",
            "5692                         4                 8                          10   \n",
            "...                        ...               ...                         ...   \n",
            "14816                        1                 1                           1   \n",
            "14863                        1                 1                           2   \n",
            "15156                        1                 1                           1   \n",
            "15428                        1                 1                           1   \n",
            "15710                        1                 1                           2   \n",
            "\n",
            "      Bare Nuclei Bland Chromatin Normal Nucleoli Mitoses Class  \n",
            "Index                                                            \n",
            "25             10               4               3       2     4  \n",
            "1382            5              10               4       1     4  \n",
            "2645           10               7               6       2     4  \n",
            "4119            5               4               4       1     4  \n",
            "5692           10               9               5       3     4  \n",
            "...           ...             ...             ...     ...   ...  \n",
            "14816           1               2               1       1     2  \n",
            "14863           1               3               1       1     2  \n",
            "15156           1               1               1       1     2  \n",
            "15428           1               2               1       1     2  \n",
            "15710           1               3               1       1     2  \n",
            "\n",
            "[83 rows x 11 columns]\n"
          ],
          "name": "stdout"
        }
      ]
    },
    {
      "cell_type": "code",
      "metadata": {
        "id": "8SvKP9qe6RDc",
        "colab_type": "code",
        "colab": {
          "base_uri": "https://localhost:8080/",
          "height": 726
        },
        "outputId": "78c974e0-003e-4cbb-c586-c1735b672e1a"
      },
      "source": [
        "print(data_4_2_id_dub['ID'].value_counts())"
      ],
      "execution_count": null,
      "outputs": [
        {
          "output_type": "stream",
          "text": [
            "1182404    6\n",
            "1276091    5\n",
            "1174057    2\n",
            "411453     2\n",
            "695091     2\n",
            "1198641    2\n",
            "1017023    2\n",
            "822829     2\n",
            "1143978    2\n",
            "560680     2\n",
            "1171710    2\n",
            "1116192    2\n",
            "734111     2\n",
            "493452     2\n",
            "1240603    2\n",
            "1320077    2\n",
            "1299596    2\n",
            "1212422    2\n",
            "897471     2\n",
            "1293439    2\n",
            "733639     2\n",
            "1114570    2\n",
            "1238777    2\n",
            "1033078    2\n",
            "1105524    2\n",
            "1158247    2\n",
            "1061990    2\n",
            "1173347    2\n",
            "1168736    2\n",
            "798429     2\n",
            "1354840    2\n",
            "1070935    2\n",
            "1299924    2\n",
            "654546     2\n",
            "385103     2\n",
            "1277792    2\n",
            "769612     2\n",
            "1339781    2\n",
            "Name: ID, dtype: int64\n"
          ],
          "name": "stdout"
        }
      ]
    },
    {
      "cell_type": "code",
      "metadata": {
        "id": "xa8jIYaSBuwh",
        "colab_type": "code",
        "colab": {
          "base_uri": "https://localhost:8080/",
          "height": 435
        },
        "outputId": "47bd8c54-bf43-4539-ccad-4c6f5a918696"
      },
      "source": [
        "#Random dub id check\n",
        "data_4_2_id_dub_1276091 = data_4_2_id_dub[data_4_2_id_dub['ID'].isin(['1276091'])]\n",
        "print(data_4_2_id_dub_1276091)\n",
        "#Row values are distinct for same IDs"
      ],
      "execution_count": null,
      "outputs": [
        {
          "output_type": "stream",
          "text": [
            "            ID  Clump Thickness Uniformity of Cell Size  \\\n",
            "Index                                                     \n",
            "3368   1276091                2                       1   \n",
            "7145   1276091                5                       1   \n",
            "8741   1276091                1                       3   \n",
            "14041  1276091                6                       1   \n",
            "14354  1276091                3                       1   \n",
            "\n",
            "      Uniformity of Cell Shape Marginal Adhesion Single Epithelial Cell Size  \\\n",
            "Index                                                                          \n",
            "3368                         1                 1                           2   \n",
            "7145                         1                 3                           4   \n",
            "8741                         1                 1                           2   \n",
            "14041                        1                 3                           2   \n",
            "14354                        1                 3                           1   \n",
            "\n",
            "      Bare Nuclei Bland Chromatin Normal Nucleoli Mitoses Class  \n",
            "Index                                                            \n",
            "3368            1               2               1       1     2  \n",
            "7145            1               3               2       1     2  \n",
            "8741            1               2               2       1     2  \n",
            "14041           1               1               1       1     2  \n",
            "14354           1               3               1       1     2  \n"
          ],
          "name": "stdout"
        }
      ]
    },
    {
      "cell_type": "code",
      "metadata": {
        "id": "ik02ew6tC79x",
        "colab_type": "code",
        "colab": {}
      },
      "source": [
        "#ID is not unique but can still be dropped as it does not contain any cell feature information\n",
        "\n",
        "data_40_20_cleaned = data_40_20_cleaned.drop(['ID'], axis=1)\n",
        "data_4_2 = data_4_2.drop(['ID'], axis=1)\n"
      ],
      "execution_count": null,
      "outputs": []
    },
    {
      "cell_type": "code",
      "metadata": {
        "id": "foD-WZDIMrhk",
        "colab_type": "code",
        "colab": {}
      },
      "source": [
        "data_final = pd.concat([data_4_2,data_40_20_cleaned])"
      ],
      "execution_count": null,
      "outputs": []
    },
    {
      "cell_type": "code",
      "metadata": {
        "id": "GBp-_ddyM6c8",
        "colab_type": "code",
        "colab": {
          "base_uri": "https://localhost:8080/",
          "height": 217
        },
        "outputId": "6f4c5f91-311b-448f-f16b-289a355ed6ed"
      },
      "source": [
        "data_final.dtypes"
      ],
      "execution_count": null,
      "outputs": [
        {
          "output_type": "execute_result",
          "data": {
            "text/plain": [
              "Clump Thickness                object\n",
              "Uniformity of Cell Size        object\n",
              "Uniformity of Cell Shape       object\n",
              "Marginal Adhesion              object\n",
              "Single Epithelial Cell Size    object\n",
              "Bare Nuclei                    object\n",
              "Bland Chromatin                object\n",
              "Normal Nucleoli                object\n",
              "Mitoses                        object\n",
              "Class                          object\n",
              "dtype: object"
            ]
          },
          "metadata": {
            "tags": []
          },
          "execution_count": 98
        }
      ]
    },
    {
      "cell_type": "code",
      "metadata": {
        "id": "lww7ccdXM-Lp",
        "colab_type": "code",
        "colab": {
          "base_uri": "https://localhost:8080/",
          "height": 35
        },
        "outputId": "97d48f27-c198-44bc-e192-3a2306fa6ab7"
      },
      "source": [
        "data_final.shape"
      ],
      "execution_count": null,
      "outputs": [
        {
          "output_type": "execute_result",
          "data": {
            "text/plain": [
              "(710, 10)"
            ]
          },
          "metadata": {
            "tags": []
          },
          "execution_count": 99
        }
      ]
    },
    {
      "cell_type": "code",
      "metadata": {
        "id": "JTXewBB4NEN2",
        "colab_type": "code",
        "colab": {
          "base_uri": "https://localhost:8080/",
          "height": 108
        },
        "outputId": "872dcdb6-32af-42e6-c763-dd68d85eac07"
      },
      "source": [
        "data_final['Class'].value_counts()"
      ],
      "execution_count": null,
      "outputs": [
        {
          "output_type": "execute_result",
          "data": {
            "text/plain": [
              "2      451\n",
              "4      237\n",
              "4.0     17\n",
              "2.0      5\n",
              "Name: Class, dtype: int64"
            ]
          },
          "metadata": {
            "tags": []
          },
          "execution_count": 100
        }
      ]
    },
    {
      "cell_type": "code",
      "metadata": {
        "id": "uXo4bov5Nr2U",
        "colab_type": "code",
        "colab": {}
      },
      "source": [
        "data_final[['Clump Thickness','Uniformity of Cell Size','Uniformity of Cell Shape', 'Marginal Adhesion','Single Epithelial Cell Size','Bare Nuclei','Bland Chromatin','Normal Nucleoli','Mitoses','Class']] = data_final[['Clump Thickness','Uniformity of Cell Size','Uniformity of Cell Shape', 'Marginal Adhesion','Single Epithelial Cell Size','Bare Nuclei','Bland Chromatin','Normal Nucleoli','Mitoses','Class']].apply(pd.to_numeric, errors='coerce') "
      ],
      "execution_count": null,
      "outputs": []
    },
    {
      "cell_type": "code",
      "metadata": {
        "id": "LqSn_u_FOXyx",
        "colab_type": "code",
        "colab": {
          "base_uri": "https://localhost:8080/",
          "height": 72
        },
        "outputId": "a5689480-fc97-4666-e258-13eabf6b42fc"
      },
      "source": [
        "data_final['Class'].value_counts()"
      ],
      "execution_count": null,
      "outputs": [
        {
          "output_type": "execute_result",
          "data": {
            "text/plain": [
              "2.0    456\n",
              "4.0    254\n",
              "Name: Class, dtype: int64"
            ]
          },
          "metadata": {
            "tags": []
          },
          "execution_count": 102
        }
      ]
    },
    {
      "cell_type": "code",
      "metadata": {
        "id": "RkE_HlvMbRgZ",
        "colab_type": "code",
        "colab": {
          "base_uri": "https://localhost:8080/",
          "height": 217
        },
        "outputId": "8b123ecf-34ea-474d-a43e-f774c0d297e9"
      },
      "source": [
        "data_final.dtypes"
      ],
      "execution_count": null,
      "outputs": [
        {
          "output_type": "execute_result",
          "data": {
            "text/plain": [
              "Clump Thickness                  int64\n",
              "Uniformity of Cell Size        float64\n",
              "Uniformity of Cell Shape       float64\n",
              "Marginal Adhesion              float64\n",
              "Single Epithelial Cell Size    float64\n",
              "Bare Nuclei                    float64\n",
              "Bland Chromatin                float64\n",
              "Normal Nucleoli                float64\n",
              "Mitoses                        float64\n",
              "Class                          float64\n",
              "dtype: object"
            ]
          },
          "metadata": {
            "tags": []
          },
          "execution_count": 103
        }
      ]
    },
    {
      "cell_type": "code",
      "metadata": {
        "id": "inhlxAhwbiKX",
        "colab_type": "code",
        "colab": {
          "base_uri": "https://localhost:8080/",
          "height": 217
        },
        "outputId": "939b4c2e-5514-4bcd-98ee-f9ce6312cb6b"
      },
      "source": [
        "# Checking for nulls\n",
        "data_final.apply(lambda x: sum(x.isnull()),axis=0)"
      ],
      "execution_count": null,
      "outputs": [
        {
          "output_type": "execute_result",
          "data": {
            "text/plain": [
              "Clump Thickness                 0\n",
              "Uniformity of Cell Size         0\n",
              "Uniformity of Cell Shape        0\n",
              "Marginal Adhesion               0\n",
              "Single Epithelial Cell Size     0\n",
              "Bare Nuclei                    16\n",
              "Bland Chromatin                 0\n",
              "Normal Nucleoli                 0\n",
              "Mitoses                         0\n",
              "Class                           0\n",
              "dtype: int64"
            ]
          },
          "metadata": {
            "tags": []
          },
          "execution_count": 104
        }
      ]
    },
    {
      "cell_type": "code",
      "metadata": {
        "id": "igCKhFFpb7sD",
        "colab_type": "code",
        "colab": {}
      },
      "source": [
        "#Removing the remaining nulls\n",
        "data_final = data_final[data_final['Bare Nuclei'].notnull()]\n"
      ],
      "execution_count": null,
      "outputs": []
    },
    {
      "cell_type": "code",
      "metadata": {
        "id": "uh1alpbCchK8",
        "colab_type": "code",
        "colab": {
          "base_uri": "https://localhost:8080/",
          "height": 35
        },
        "outputId": "4d4ae397-aade-4778-f356-9d4d2b952d76"
      },
      "source": [
        "data_final.shape"
      ],
      "execution_count": null,
      "outputs": [
        {
          "output_type": "execute_result",
          "data": {
            "text/plain": [
              "(694, 10)"
            ]
          },
          "metadata": {
            "tags": []
          },
          "execution_count": 106
        }
      ]
    },
    {
      "cell_type": "code",
      "metadata": {
        "id": "lVw3Y3u4coHI",
        "colab_type": "code",
        "colab": {}
      },
      "source": [
        "tmp = data_final['Class'].value_counts()"
      ],
      "execution_count": null,
      "outputs": []
    },
    {
      "cell_type": "code",
      "metadata": {
        "id": "coQ8dEpmeIkR",
        "colab_type": "code",
        "colab": {
          "base_uri": "https://localhost:8080/",
          "height": 301
        },
        "outputId": "5bdb624a-7f13-45cd-9ec5-8ec24e99ede9"
      },
      "source": [
        "fig = plt.figure(figsize=(8,4))\n",
        "ax1 = fig.add_subplot(121)\n",
        "ax1.set_xlabel('Class')\n",
        "ax1.set_ylabel('Count')\n",
        "ax1.set_title(\"Class Information\")\n",
        "tmp.plot(kind = 'bar')\n",
        "plt.show()"
      ],
      "execution_count": null,
      "outputs": [
        {
          "output_type": "display_data",
          "data": {
            "image/png": "[encoded data removed]",
            "text/plain": [
              "<Figure size 576x288 with 1 Axes>"
            ]
          },
          "metadata": {
            "tags": [],
            "needs_background": "light"
          }
        }
      ]
    },
    {
      "cell_type": "markdown",
      "metadata": {
        "id": "RCTe-_Af5jRB",
        "colab_type": "text"
      },
      "source": [
        "# Feature Importance and Predictive Modelling \n",
        "**Model utilised - Random forest classifier** \n",
        "<br>This is an ensemble technique which fits a number of decision tree classifiers on various sub-samples of the dataset and uses averaging to improve the predictive accuracy and control over-fitting. It provides interpretability and helps in determining feature importances. For this project, multiple random forest with varying features have been utilised to demonstrate predictive power of varied feature set. \n"
      ]
    },
    {
      "cell_type": "code",
      "metadata": {
        "id": "kPoMAxKxfkD_",
        "colab_type": "code",
        "colab": {
          "base_uri": "https://localhost:8080/",
          "height": 385
        },
        "outputId": "04b3b645-ee29-4fc1-c362-89c76256bde1"
      },
      "source": [
        "# Plot the correlation values across variables as a heatmap\n",
        "import seaborn as sns\n",
        "cols = list(set(data_final.columns) - set(['Class']))\n",
        "corr_mat = data_final[cols].corr(method='spearman')\n",
        "sns.heatmap(corr_mat, vmax=1.0, center=0, fmt='.2f', annot=True, cmap=plt.cm.Greens)\n",
        "plt.show()"
      ],
      "execution_count": null,
      "outputs": [
        {
          "output_type": "display_data",
          "data": {
            "image/png": "[encoded data removed]",
            "text/plain": [
              "<Figure size 432x288 with 2 Axes>"
            ]
          },
          "metadata": {
            "tags": [],
            "needs_background": "light"
          }
        }
      ]
    },
    {
      "cell_type": "code",
      "metadata": {
        "id": "PDAjGu18h01J",
        "colab_type": "code",
        "colab": {}
      },
      "source": [
        "\n",
        "# Defining target variable and predictors\n",
        "y = data_final['Class']\n",
        "X = data_final.iloc[:,:-1]"
      ],
      "execution_count": null,
      "outputs": []
    },
    {
      "cell_type": "code",
      "metadata": {
        "id": "D9wSS6jqkUHx",
        "colab_type": "code",
        "colab": {}
      },
      "source": [
        "from sklearn.model_selection import train_test_split\n",
        "from sklearn.metrics import roc_curve, roc_auc_score, confusion_matrix, accuracy_score, classification_report\n",
        "from sklearn.ensemble import RandomForestClassifier\n",
        "\n",
        "# Split into train and test sets -> 0.75 : 0.25 split\n",
        "train_X, test_X, train_y, test_y = train_test_split(X, y, train_size=0.75, test_size=0.25)\n",
        "    \n",
        "# train model\n",
        "model = RandomForestClassifier(n_estimators=100, random_state=0)\n",
        "model.fit(train_X, train_y)\n",
        "\n",
        "# make predictions for test data\n",
        "pred_y= model.predict(test_X)\n",
        "\n"
      ],
      "execution_count": null,
      "outputs": []
    },
    {
      "cell_type": "code",
      "metadata": {
        "id": "i3VL0pLOldor",
        "colab_type": "code",
        "colab": {
          "base_uri": "https://localhost:8080/",
          "height": 199
        },
        "outputId": "ee40088c-aa86-4f97-c79b-40c18c1f87bb"
      },
      "source": [
        "# Find the importance of features using permutation importance\n",
        "featimp = pd.Series(model.feature_importances_, index=X.columns).sort_values(ascending=False)\n",
        "print (featimp)\n"
      ],
      "execution_count": null,
      "outputs": [
        {
          "output_type": "stream",
          "text": [
            "Uniformity of Cell Size        0.312910\n",
            "Uniformity of Cell Shape       0.204591\n",
            "Bare Nuclei                    0.156610\n",
            "Bland Chromatin                0.092310\n",
            "Single Epithelial Cell Size    0.076512\n",
            "Normal Nucleoli                0.061040\n",
            "Clump Thickness                0.060274\n",
            "Marginal Adhesion              0.027499\n",
            "Mitoses                        0.008255\n",
            "dtype: float64\n"
          ],
          "name": "stdout"
        }
      ]
    },
    {
      "cell_type": "code",
      "metadata": {
        "id": "Dt43KJLAnqnV",
        "colab_type": "code",
        "colab": {
          "base_uri": "https://localhost:8080/",
          "height": 253
        },
        "outputId": "7b59b1cc-5439-443c-a455-68eeb6296002"
      },
      "source": [
        "print('Confusion Matrix for test data is')\n",
        "print(confusion_matrix(test_y, pred_y))\n",
        "print('Classification Report for Test Data')\n",
        "print(classification_report(test_y, pred_y))"
      ],
      "execution_count": null,
      "outputs": [
        {
          "output_type": "stream",
          "text": [
            "Confusion Matrix for test data is\n",
            "[[101   3]\n",
            " [  0  70]]\n",
            "Classification Report for Test Data\n",
            "              precision    recall  f1-score   support\n",
            "\n",
            "         2.0       1.00      0.97      0.99       104\n",
            "         4.0       0.96      1.00      0.98        70\n",
            "\n",
            "    accuracy                           0.98       174\n",
            "   macro avg       0.98      0.99      0.98       174\n",
            "weighted avg       0.98      0.98      0.98       174\n",
            "\n"
          ],
          "name": "stdout"
        }
      ]
    },
    {
      "cell_type": "code",
      "metadata": {
        "id": "fhgVs3HVobn6",
        "colab_type": "code",
        "colab": {
          "base_uri": "https://localhost:8080/",
          "height": 35
        },
        "outputId": "d38c525b-f5a9-41a5-a18b-c10b24b9c7bc"
      },
      "source": [
        "predicted_prob = model.predict_proba(test_X)[:,1]\n",
        "ROC = roc_auc_score(test_y, predicted_prob)\n",
        "print('ROC of the Classifier is %.5f'%ROC)"
      ],
      "execution_count": null,
      "outputs": [
        {
          "output_type": "stream",
          "text": [
            "ROC of the Classifier is 0.99341\n"
          ],
          "name": "stdout"
        }
      ]
    },
    {
      "cell_type": "markdown",
      "metadata": {
        "id": "3gDM9FXtBG-Q",
        "colab_type": "text"
      },
      "source": [
        ""
      ]
    },
    {
      "cell_type": "code",
      "metadata": {
        "id": "vuSevSpxobjs",
        "colab_type": "code",
        "colab": {}
      },
      "source": [
        "# Uniformity of Cell Shape seems to be correlated all the features except Clump Thickness and Mitoses \n",
        "# Therefore, keeping only these three features should suffice \n",
        "feature_vars = ['Uniformity of Cell Shape','Clump Thickness','Mitoses']\n",
        "\n",
        "x_df = X[feature_vars]\n"
      ],
      "execution_count": null,
      "outputs": []
    },
    {
      "cell_type": "code",
      "metadata": {
        "id": "sgUVyTIErj5P",
        "colab_type": "code",
        "colab": {}
      },
      "source": [
        "# Split into train and test sets -> 0.75 : 0.25 split\n",
        "train_X, test_X, train_y, test_y = train_test_split(x_df, y, train_size=0.75, test_size=0.25)\n",
        "    \n",
        "# train model\n",
        "model = RandomForestClassifier(n_estimators=100, random_state=0)\n",
        "model.fit(train_X, train_y)\n",
        "\n",
        "# make predictions for test data\n",
        "pred_y= model.predict(test_X)"
      ],
      "execution_count": null,
      "outputs": []
    },
    {
      "cell_type": "code",
      "metadata": {
        "id": "-Y5kHOh1ru9A",
        "colab_type": "code",
        "colab": {
          "base_uri": "https://localhost:8080/",
          "height": 90
        },
        "outputId": "46acea05-0928-49dd-c460-53b6294a2e42"
      },
      "source": [
        "# Find the importance of features using permutation importance\n",
        "featimp = pd.Series(model.feature_importances_, index=x_df.columns).sort_values(ascending=False)\n",
        "print (featimp)"
      ],
      "execution_count": null,
      "outputs": [
        {
          "output_type": "stream",
          "text": [
            "Uniformity of Cell Shape    0.514199\n",
            "Clump Thickness             0.379509\n",
            "Mitoses                     0.106293\n",
            "dtype: float64\n"
          ],
          "name": "stdout"
        }
      ]
    },
    {
      "cell_type": "code",
      "metadata": {
        "id": "_9u0_Vwer5mk",
        "colab_type": "code",
        "colab": {
          "base_uri": "https://localhost:8080/",
          "height": 271
        },
        "outputId": "08bc1424-3ab3-4836-9a1c-eabfe9edd20d"
      },
      "source": [
        "print('Confusion Matrix for test data is')\n",
        "print(confusion_matrix(test_y, pred_y))\n",
        "print('Classification Report for Test Data')\n",
        "print(classification_report(test_y, pred_y))\n",
        "predicted_prob = model.predict_proba(test_X)[:,1]\n",
        "ROC = roc_auc_score(test_y, predicted_prob)\n",
        "print('ROC of the Classifier is %.5f'%ROC)"
      ],
      "execution_count": null,
      "outputs": [
        {
          "output_type": "stream",
          "text": [
            "Confusion Matrix for test data is\n",
            "[[117   5]\n",
            " [  5  47]]\n",
            "Classification Report for Test Data\n",
            "              precision    recall  f1-score   support\n",
            "\n",
            "         2.0       0.96      0.96      0.96       122\n",
            "         4.0       0.90      0.90      0.90        52\n",
            "\n",
            "    accuracy                           0.94       174\n",
            "   macro avg       0.93      0.93      0.93       174\n",
            "weighted avg       0.94      0.94      0.94       174\n",
            "\n",
            "ROC of the Classifier is 0.97817\n"
          ],
          "name": "stdout"
        }
      ]
    },
    {
      "cell_type": "markdown",
      "metadata": {
        "id": "CKt4k5h67T-G",
        "colab_type": "text"
      },
      "source": [
        "# More techniques and models\n",
        "**Logistic Regression** models in combination of chi square anova test to determine the most important features. <br>\n",
        "Logistic regression would also provide significance for coefficient values which is also helpful in determining the importance of features."
      ]
    }
  ]
}